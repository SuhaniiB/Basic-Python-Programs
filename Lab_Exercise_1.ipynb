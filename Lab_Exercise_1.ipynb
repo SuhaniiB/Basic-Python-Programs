{
  "nbformat": 4,
  "nbformat_minor": 0,
  "metadata": {
    "colab": {
      "provenance": []
    },
    "kernelspec": {
      "name": "python3",
      "display_name": "Python 3"
    },
    "language_info": {
      "name": "python"
    }
  },
  "cells": [
    {
      "cell_type": "code",
      "source": [
        "#EXCERCISE 1-Boolean Data Types\n",
        "\n",
        "is_sunny=True                                                 #1.Boolean Variables.\n",
        "has_umbrella=False\n",
        "print(\"------WEATHER CONDITIONS------\")\n",
        "print(\"1.It's SUNNY today.\")\n",
        "print(\"2.I don't have an UMBRELLA.\")\n",
        "def choices():\n",
        "  global is_sunny\n",
        "  global has_umbrella\n",
        "  go_outside=is_sunny or has_umbrella                         #2.Boolean Expressions.\n",
        "  print(\"Should I go outside?\",go_outside)\n",
        "  stay_inside=not(is_sunny) and has_umbrella                  #3.Logical Operators.\n",
        "  print(\"Should I stay inside?\",stay_inside)\n",
        "  perfect_day=is_sunny and not (has_umbrella)                 #4.Combining Conditions.\n",
        "  print(\"Is today a PERFECT DAY?\",perfect_day)\n",
        "\n",
        "choices()\n",
        "is_sunny=input(\"Is it sunny outside?(True/False)\")  5.        #5.Interactive Input.\n",
        "has_umbrella=input(\"Do you have an umbrella?(True/False)\")\n",
        "print(\"------WEATHER CONDITIONS------\")\n",
        "if is_sunny==\"True\":\n",
        "  print(\"1.It's SUNNY today.\")\n",
        "else:\n",
        "  print(\"1.It's NOT SUNNY today.\")\n",
        "\n",
        "if has_umbrella==\"True\":\n",
        "  print(\"2.I have an UMBRELLA\")\n",
        "else:\n",
        "  print(\"2.I don't have an UMBRELLA\")\n",
        "choices()\n"
      ],
      "metadata": {
        "colab": {
          "base_uri": "https://localhost:8080/"
        },
        "id": "GA04CQYujF6u",
        "outputId": "c9a0f01f-a360-435a-cbad-e53109d66989"
      },
      "execution_count": null,
      "outputs": [
        {
          "output_type": "stream",
          "name": "stdout",
          "text": [
            "------WEATHER CONDITIONS------\n",
            "1.It's SUNNY today.\n",
            "2.I don't have an UMBRELLA.\n",
            "Should I go outside? True\n",
            "Should I stay inside? False\n",
            "Is today a PERFECT DAY? True\n",
            "Is it sunny outside?(True/False)False\n",
            "Do you have an umbrella?(True/False)False\n",
            "------WEATHER CONDITIONS------\n",
            "1.It's NOT SUNNY today.\n",
            "2.I don't have an UMBRELLA\n",
            "Should I go outside? False\n",
            "Should I stay inside? False\n",
            "Is today a PERFECT DAY? False\n"
          ]
        }
      ]
    },
    {
      "cell_type": "code",
      "source": [
        "#EXCERCISE 2-Basic List Operations\n",
        "fruits=[\"apple\",\"banana\",\"cherry\"]                                      #1.Creating a List.\n",
        "print(\"First Element is:\",fruits[0],\"and Last Element is\",fruits[-1])   #2.Accessing Elements.\n",
        "fruits.append(\"orange\")                                                 #3.Modifying a List.\n",
        "fruits.insert(1,\"blueberry\")\n",
        "fruits.remove(fruits[0])                                                #4.Removing Elements.\n",
        "print(\"The final list is\",fruits)                                       #5.Print the final list."
      ],
      "metadata": {
        "colab": {
          "base_uri": "https://localhost:8080/"
        },
        "id": "YMgxiDWBpJbO",
        "outputId": "7ae01d3d-c086-4a12-e845-e9bf82bd620a"
      },
      "execution_count": null,
      "outputs": [
        {
          "output_type": "stream",
          "name": "stdout",
          "text": [
            "First Element is: apple and Last Element is cherry\n",
            "The final list is ['blueberry', 'banana', 'cherry', 'orange']\n"
          ]
        }
      ]
    },
    {
      "cell_type": "code",
      "source": [
        "#EXCERCISE 3-List Slicing and Iteration\n",
        "numbers=[1,2,3,4,5,6,7,8,9,10]                               #1.Creating a List.\n",
        "print(\"The first five numbers are:\",numbers[0:5])            #2.Slicing a List.\n",
        "print(\"The last three elements are:\",numbers[-3:])\n",
        "\n",
        "for number in numbers:                                       #3.Iterating Through a List.\n",
        "  print(number)\n",
        "\n",
        "squares=[]                                                   #4.List Comprehension.\n",
        "for sqnum in numbers:\n",
        "  squares.append(sqnum**2)\n",
        "print(\"The square of all numbers is:\"squares)                #5.Print the New List.\n",
        "\n"
      ],
      "metadata": {
        "colab": {
          "base_uri": "https://localhost:8080/"
        },
        "id": "fRzkiMKBrH-C",
        "outputId": "e8b1f56e-f3d9-4375-abe3-e03811acbc91"
      },
      "execution_count": null,
      "outputs": [
        {
          "output_type": "stream",
          "name": "stdout",
          "text": [
            "The first five numbers are: [1, 2, 3, 4, 5]\n",
            "The last three elements are: [8, 9, 10]\n",
            "1\n",
            "2\n",
            "3\n",
            "4\n",
            "5\n",
            "6\n",
            "7\n",
            "8\n",
            "9\n",
            "10\n",
            "[1, 4, 9, 16, 25, 36, 49, 64, 81, 100]\n"
          ]
        }
      ]
    },
    {
      "cell_type": "code",
      "source": [
        "#EXCERCISE 4-List Methods and Functions\n",
        "students=[\"Alice\",\"Bob\",\"Charlie\",\"David\",\"Eve\"]   #1.Creating a List.\n",
        "students.append(\"Frank\")                           #2.Using List Methods.\n",
        "students.insert(1,\"Grace\")\n",
        "students.remove(\"David\")\n",
        "print(\"The length of the list is\",len(students))   #3.Using Built-in Functions.\n",
        "\n",
        "num=[34,67,23,89,12]\n",
        "print(\"The maximum value is\",max(num))\n",
        "print(\"The minimum value is\",min(num))\n",
        "\n",
        "print(\"The final students list\",students)          #4.Print the Final List."
      ],
      "metadata": {
        "colab": {
          "base_uri": "https://localhost:8080/"
        },
        "id": "aby9fUhUtU1P",
        "outputId": "7054ca8c-a184-4fd5-a594-9997cfca2479"
      },
      "execution_count": null,
      "outputs": [
        {
          "output_type": "stream",
          "name": "stdout",
          "text": [
            "The length of the list is 6\n",
            "The maximum value is 89\n",
            "The minimum value is 12\n",
            "The final students list ['Alice', 'Grace', 'Bob', 'Charlie', 'Eve', 'Frank']\n"
          ]
        }
      ]
    },
    {
      "cell_type": "code",
      "source": [
        "#EXCERCISE 5-Basic String Operations\n",
        "greeting=\"Hello World!\"                       #1.Creating Strings.\n",
        "name=\"SUHANI BALCHANDANI\"\n",
        "personal_greeting=greeting+\" \"+name           #2.String Concatenation.\n",
        "print(personal_greeting)\n",
        "print(\"The first character is:\",greeting[0])  #3.Accessing Characters.\n",
        "print(\"The Last character is:\",name[-1])\n",
        "print(personal_greeting[0:5])                 #4.String Slicing.\n",
        "print(personal_greeting[-3:])\n",
        "print(\"Upper Case:\",greeting.upper())         #5.String Methods.\n",
        "print(greeting.replace(\"World\",\"Python\"))\n"
      ],
      "metadata": {
        "colab": {
          "base_uri": "https://localhost:8080/"
        },
        "id": "6POwtXwcwCKK",
        "outputId": "adfdd4ad-00f0-445c-8408-10c5401cfd0a"
      },
      "execution_count": null,
      "outputs": [
        {
          "output_type": "stream",
          "name": "stdout",
          "text": [
            "Hello World! SUHANI BALCHANDANI\n",
            "The first character is: H\n",
            "The Last character is: I\n",
            "Hello\n",
            "ANI\n",
            "Upper Case: HELLO WORLD!\n",
            "Hello Python!\n"
          ]
        }
      ]
    },
    {
      "cell_type": "code",
      "source": [
        "#EXCERCISE 6-Advanced String Operations\n",
        "name=\"Suhani\"\n",
        "age=17\n",
        "info=print(f\"{name} {age}\")                                             #1.String Formatting.\n",
        "print(info)\n",
        "greeting=\"Hello World\"                                                  #2.Finding Substrings.\n",
        "if \"World\" in greeting:\n",
        "  print(\"World is there in the greeting.\")\n",
        "else:\n",
        "  print(\"World was not there in the greeting.\")\n",
        "string=\"I love Python programming.\"\n",
        "print(\"The position of the word PYTHON is\", string.index(\"Python\"))\n",
        "print(\"The words present in the greeting string are\",greeting.split())  #3.Splitting and Joing Strings.\n",
        "new_greeting=greeting.split()\n",
        "print(\"Joining the list again\",new_greeting[0],new_greeting[1])\n",
        "\n",
        "first_name=input(\"Enter your first Name:\")                              #4.Interactive Input.\n",
        "last_name=input(\"Enter your last Name:\")\n",
        "name=print(\"Your Full name is:\",first_name+\" \"+last_name)"
      ],
      "metadata": {
        "id": "Hvv_5-RM6LeA",
        "colab": {
          "base_uri": "https://localhost:8080/"
        },
        "outputId": "324e26cd-a463-44f2-9dec-c513d4890bef"
      },
      "execution_count": null,
      "outputs": [
        {
          "output_type": "stream",
          "name": "stdout",
          "text": [
            "Suhani 17\n",
            "None\n",
            "World is there in the greeting.\n",
            "The position of the word PYTHON is 7\n",
            "The words present in the greeting string are ['Hello', 'World']\n",
            "Joining the list again Hello World\n",
            "Enter your first Name:SUHANI\n",
            "Enter your last Name:BALCHANDANI\n",
            "Your Full name is: SUHANI BALCHANDANI\n"
          ]
        }
      ]
    }
  ]
}