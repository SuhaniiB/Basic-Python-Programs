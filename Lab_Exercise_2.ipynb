{
  "nbformat": 4,
  "nbformat_minor": 0,
  "metadata": {
    "colab": {
      "provenance": []
    },
    "kernelspec": {
      "name": "python3",
      "display_name": "Python 3"
    },
    "language_info": {
      "name": "python"
    }
  },
  "cells": [
    {
      "cell_type": "code",
      "execution_count": 1,
      "metadata": {
        "colab": {
          "base_uri": "https://localhost:8080/"
        },
        "id": "0Lwt3q2IWgWI",
        "outputId": "759fdc3f-16aa-464e-cfe2-aaba877fb6b1"
      },
      "outputs": [
        {
          "output_type": "stream",
          "name": "stdout",
          "text": [
            "Single line comments start witha hash symbol \"#\" \n",
            "Multi-line Comments begin are written within triple quotes.\n",
            "10 20.5 Alice\n",
            "Area of rectangle is: 15\n"
          ]
        }
      ],
      "source": [
        "#1.UNDERSTANDING COMMENTS:\n",
        "#PROGRAM 1- Single and Multiline Comments\n",
        "print(\"Single line comments start witha hash symbol \\\"#\\\" \")        #Single line comments\n",
        "#comments are those charcters which do not get printed when we run the program.\n",
        "print(\"Multi-line Comments begin are written within triple quotes.\")#Multi-line Comments\n",
        "\"\"\"\n",
        "comments enclosed within triple quotes allows us to write comments in multiple lines\n",
        "and they are enclosed in triple double or triple single quotes.\n",
        "\"\"\"\n",
        "#PROGRAM 2- Commenting on Variable Assignments\n",
        "x=10                   #10(int) is stored in the variable 'x'.\n",
        "y=20.5                 #20.5(int) is stored in variable 'y'.\n",
        "name=\"Alice\"           #Alice(str) stored in variable name\n",
        "print(x,y,name)        #Diffrent data types can be printed without error.\n",
        "'''When variable are separated by comma in a print statement they get printed\n",
        "with space b/w them.'''\n",
        "#PROGRAM 3-Explaining  a Simple Mathematical Operation with Comments.\n",
        "length=5                                            #length is 5 units.\n",
        "width=3                                             #width is 3 units.\n",
        "area=length*width                                   #creating a variable named area.\n",
        "print(\"Area of rectangle is:\",area)                 #printing area."
      ]
    },
    {
      "cell_type": "code",
      "source": [
        "#2.EXPLORING OPERATORS AND THEIR PRECEDENCE:\n",
        "#PROGRAM 1-Basic Arithmetic Operations\n",
        "a=10                                                #value of 10 is stored in variable 'a'.\n",
        "b=5                                                 #value of 5 is stored in variable 'b'.\n",
        "addition=a+b                                        #using adssignment operators like +,-,*,/\n",
        "subtraction=a-b\n",
        "multiplication=a*b\n",
        "division=a/b\n",
        "print(\"Addition:\",addition)                         #printing the result.\n",
        "print(\"Subtraction:\",subtraction)\n",
        "print(\"Multiplication:\",multiplication)\n",
        "print(\"Division:\",division)\n",
        "#PROGRAM 2-Operator Precedence in Expresions.\n",
        "a=5                                               #assigning value 5 to variable 'a'.\n",
        "b=10                                              #assigning value 10 to variable 'b'.\n",
        "c=15                                              #assigning value 15 to variable 'c'.\n",
        "result1=a+b*c                                     #here first multiplication will happen like BODMAS Rule.\n",
        "result2=(a+b)*c                                  #here first the brackets will be solved(BODMAS Rule).\n",
        "print(\"Result1(a+b*c):\",result1)\n",
        "print(\"Result2((a+b)*c):\",result2)\n",
        "#PROGRAM 3-Using Comparison and Logical Operators.\n",
        "a=10                                              #assigning value 10 to 'a'.\n",
        "b=20                                              #assigning value 20 to 'b'.\n",
        "c=30                                              #assigning value 30 to 'c'.\n",
        "is_greater=a<b and b<c                            #using LOGICAL AND Operator.\n",
        "is_equal= a==b                                    #== means checking the value is equal or not while = means assigning the value.\n",
        "print(\"Is a<b and b<c:\",is_greater)               #printing the values.\n",
        "print(\"Is a equal to b:\",is_equal)\n",
        "#PROGRAM 4-Combining Multiple Operators.\n",
        "a=8                                        #assigning value 8 to 'a'.\n",
        "b=3                                        #assigning value 3 to 'b'.\n",
        "c=2                                        #assigning value 2 to 'c'.\n",
        "result=(a+b)*c>20                          #first parenthesis will be evaluated.\n",
        "print(\"Result is:\",result)                 #output will be a BOOLEAN value.\n"
      ],
      "metadata": {
        "colab": {
          "base_uri": "https://localhost:8080/"
        },
        "id": "eIBwDdvcR99R",
        "outputId": "e5c980a8-aa18-4291-b10f-9af7de977aaf"
      },
      "execution_count": 2,
      "outputs": [
        {
          "output_type": "stream",
          "name": "stdout",
          "text": [
            "Addition: 15\n",
            "Subtraction: 5\n",
            "Multiplication: 50\n",
            "Division: 2.0\n",
            "Result1(a+b*c): 155\n",
            "Result2((a+b)*c): 225\n",
            "Is a<b and b<c: True\n",
            "Is a equal to b: False\n",
            "Result is: True\n"
          ]
        }
      ]
    },
    {
      "cell_type": "code",
      "source": [
        "#3.RESERVED WORDS IN A PYTHON PROGRAM.\n",
        "#PROGRAM 1-Using Reserved Words in a Python Program.\n",
        "number=10                            #assigning value 10 to 'number'\n",
        "pi=3.14                              #assigning value 3.14 to pi.\n",
        "is_valid=True                        #assigning value True to is_valid.\n",
        "print(f\"Number: {number}\")           #using f strings which is an easy way to join both strings and int type.\n",
        "print(f\"Pi: {pi}\")\n",
        "print(f\"Is Valid: {is_valid}\")\n",
        "#for is an invalid variable name as it is a KEYWORD.\n",
        "#PROGRAM 2-Using import and from\n",
        "import math                                                            #importing math module\n",
        "from math import sqrt                                                  #importing sqrt from math module\n",
        "result=sqrt(14)\n",
        "print(\"Square root of 16 is\",result)\n",
        "circle_area=math.pi*(5**2)                                             #using pi method to find area of circle.\n",
        "print(\"Area of circle of radius=5 units is: \",circle_area)\n",
        "#PROGRAM 3-Using def and return\n",
        "def add_numbers(a,b):                     #defining a function\n",
        "  result=a+b\n",
        "  return result                           #returning a value\n",
        "sum_result=add_numbers(3,7)\n",
        "print(\"The sum of 3 and 7 is\",sum_result)\n",
        "#PROGRAM 4-Using try,except and finally\n",
        "try:\n",
        "  number=int(\"not a number\")                                #can not be an integer Data Type.\n",
        "except ValueError:\n",
        "  print(\"There was an error converting the string to an integer\")\n",
        "finally:\n",
        "  print(\"This block runs no matter what\")\n",
        "#PROGRAM 5-Using del\n",
        "numbers=[1,2,3,4,5]                       #list\n",
        "del numbers[2]\n",
        "print(\"Updated list is\",numbers)\n",
        "del numbers                              #deleted the list.\n",
        "#print(numbers)\n",
        "#PROGRAM 6-Using in and not\n",
        "fruits=[\"apple\",\"banana\",\"cherry\"]\n",
        "is_banana_present=\"banana\" in fruits\n",
        "print(\"Is banana in fruits list?\",is_banana_present)\n",
        "is_grape_absent=\"grape\" not in fruits\n",
        "print(\"Is grape not in the list of fruits?\",is_grape_absent)"
      ],
      "metadata": {
        "colab": {
          "base_uri": "https://localhost:8080/"
        },
        "id": "wOYntrkuSHXm",
        "outputId": "74bf6c01-d7f0-43a3-819b-719be2abbcc7"
      },
      "execution_count": 4,
      "outputs": [
        {
          "output_type": "stream",
          "name": "stdout",
          "text": [
            "Number: 10\n",
            "Pi: 3.14\n",
            "Is Valid: True\n",
            "Square root of 16 is 3.7416573867739413\n",
            "Area of circle of radius=5 units is:  78.53981633974483\n",
            "The sum of 3 and 7 is 10\n",
            "There was an error converting the string to an integer\n",
            "This block runs no matter what\n",
            "Updated list is [1, 2, 4, 5]\n",
            "Is banana in fruits list? True\n",
            "Is grape not in the list of fruits? True\n"
          ]
        }
      ]
    },
    {
      "cell_type": "code",
      "source": [
        "#STUDENT EXERCISE\n",
        "base_salary=int(input(\"Enter your BASE SALARY:\"))                         #Taking the base salary input.\n",
        "bonus=int(input(\"Enter your BONUS:\"))                                     #Taking the bonus input.\n",
        "tax_percentage=int(input(\"Enter your TAXES:\"))                            #Taking tax percentage input.\n",
        "gross_salary=bonus+base_salary\n",
        "net_salary=(base_salary+bonus)-((base_salary+bonus)*tax_percentage/100)\n",
        "print(\"Your Gross Salary is:\",gross_salary)\n",
        "print(\"Your Net Salary is:\",net_salary)"
      ],
      "metadata": {
        "colab": {
          "base_uri": "https://localhost:8080/"
        },
        "id": "M8Ypfh4KSLvI",
        "outputId": "e3609643-5e87-4b50-c4f7-7e3d3216cc90"
      },
      "execution_count": 5,
      "outputs": [
        {
          "output_type": "stream",
          "name": "stdout",
          "text": [
            "Enter your BASE SALARY:10000\n",
            "Enter your BONUS:500\n",
            "Enter your TAXES:5\n",
            "Your Gross Salary is: 10500\n",
            "Your Net Salary is: 9975.0\n"
          ]
        }
      ]
    },
    {
      "cell_type": "code",
      "source": [
        "#CASE STUDY 2\n",
        "total_purchase=int(input(\"Enter your Total Amount Purchase.\"))           #Input from the user.\n",
        "discount_percentage=int(input(\"Enter your Discount Percentage.\"))\n",
        "tax_percentage=int(input(\"Enter your Tax Percentage.\"))\n",
        "total_amount=total_purchase-(total_purchase*discount_percentage/100)     #Calculating the total amount after discount.\n",
        "total_amount_after_tax=total_amount+(total_amount*tax_percentage/100)    #Calculating the total amount after tax.\n",
        "print(\"Your total amount after discount is:\",total_amount)\n",
        "print(\"Your total amount after tax is:\",total_amount_after_tax)\n"
      ],
      "metadata": {
        "colab": {
          "base_uri": "https://localhost:8080/"
        },
        "id": "43wgmRNiSOmU",
        "outputId": "7552a27e-45dd-4045-a627-459b48c5d1b7"
      },
      "execution_count": 6,
      "outputs": [
        {
          "output_type": "stream",
          "name": "stdout",
          "text": [
            "Enter your Total Amount Purchase.1030\n",
            "Enter your Discount Percentage.15\n",
            "Enter your Tax Percentage.2\n",
            "Your total amount after discount is: 875.5\n",
            "Your total amount after tax is: 893.01\n"
          ]
        }
      ]
    },
    {
      "cell_type": "markdown",
      "source": [],
      "metadata": {
        "id": "-1lrpEH5Muny"
      }
    }
  ]
}